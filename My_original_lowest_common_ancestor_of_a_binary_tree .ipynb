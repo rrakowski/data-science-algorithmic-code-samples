{
 "cells": [
  {
   "cell_type": "markdown",
   "metadata": {},
   "source": [
    "## My Original Lowest Common Ancestor (LCA) of a Binary Tree solution\n",
    "\n",
    "## problem: find lowest common ancestor of two given nodes p & q (the node that have both (p,q) nodes as descendants) in the binary tree without allocating any tree structure data in the memory! The tree is complete, i.e. the indexes start from 1 and go on (1,2,3,...) from the  leftmost node to the right at each level. \n",
    "Jan 2021 by Rafal Rakowski"
   ]
  },
  {
   "cell_type": "code",
   "execution_count": 48,
   "metadata": {},
   "outputs": [
    {
     "name": "stdout",
     "output_type": "stream",
     "text": [
      "LCA: 3\n"
     ]
    }
   ],
   "source": [
    "class LCA_Solution:\n",
    "\tdef run(self, p, q, steps = None):         \n",
    "\t\tif p >= 1 and p <= 1e6 and q >= 1 and q <= 1e6 and p!=q: \n",
    "\t\t\tnode = 1\n",
    "\t\t\tif (not steps):\n",
    "\t\t\t\tsteps =[]\n",
    "\t\t\telse:                \n",
    "\t\t\t\tfor step in steps:\n",
    "\t\t\t\t\tif step == 'L':\n",
    "\t\t\t\t\t\tnode = node *2\n",
    "\t\t\t\t\telse:\n",
    "\t\t\t\t\t\tnode = (node *2) + 1          \n",
    "\t\t\tif node > max(p,q):\n",
    "\t\t\t\treturn None                \n",
    "\t\t\tif node == p or node == q:           \n",
    "\t\t\t\treturn node         \n",
    "\t\t\tsteps.append('L')              \n",
    "\t\t\tleft = self.run(p, q, steps)\n",
    "\t\t\tsteps.pop(-1)             \n",
    "\t\t\tsteps.append('R')             \n",
    "\t\t\tright = self.run(p, q, steps)\n",
    "\t\t\tsteps.pop(-1)                            \n",
    "\t\t\tif right and left:\n",
    "\t\t\t\treturn node\n",
    "\t\t\tif right == p or right == q:\n",
    "\t\t\t\tstepy = steps                \n",
    "\t\t\t\t#stepy.pop(-1)\n",
    "\t\t\t\tnod = 1                \n",
    "\t\t\t\tfor step in stepy:\n",
    "\t\t\t\t\tif step == 'L':\n",
    "\t\t\t\t\t\tnod = nod *2\n",
    "\t\t\t\t\telse:\n",
    "\t\t\t\t\t\tnod = (nod *2) + 1\n",
    "\t\t\t\tright = nod                \n",
    "\t\t\tif left == p or right == q:\n",
    "\t\t\t\tstepy = steps                \n",
    "\t\t\t\t#stepy.pop(-1)\n",
    "\t\t\t\tnod = 1                \n",
    "\t\t\t\tfor step in stepy:\n",
    "\t\t\t\t\tif step == 'L':\n",
    "\t\t\t\t\t\tnod = nod *2\n",
    "\t\t\t\t\telse:\n",
    "\t\t\t\t\t\tnod = (nod *2) + 1\n",
    "\t\t\t\tleft = nod          \n",
    "\t\t\treturn right or left       \n",
    "\t\telse:\n",
    "\t\t\treturn None\n",
    "    \n",
    "# test the above code with e.g. p=13 & q=15      \n",
    "ob = LCA_Solution()\n",
    "print('LCA: ' + str(ob.run(13,15))) # or test with p,q: 25,100 => 12; 11,13 => 1; 11, 11 -> 5"
   ]
  }
 ],
 "metadata": {
  "kernelspec": {
   "display_name": "Python 3",
   "language": "python",
   "name": "python3"
  },
  "language_info": {
   "codemirror_mode": {
    "name": "ipython",
    "version": 3
   },
   "file_extension": ".py",
   "mimetype": "text/x-python",
   "name": "python",
   "nbconvert_exporter": "python",
   "pygments_lexer": "ipython3",
   "version": "3.7.4"
  }
 },
 "nbformat": 4,
 "nbformat_minor": 2
}
