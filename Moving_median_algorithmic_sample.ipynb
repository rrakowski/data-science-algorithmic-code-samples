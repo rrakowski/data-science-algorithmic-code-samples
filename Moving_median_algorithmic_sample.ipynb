{
 "cells": [
  {
   "cell_type": "markdown",
   "metadata": {},
   "source": [
    "## Moving Median - input a list/array of integers and assuming a sliding window output moving medians as a string \n",
    "Mar 2021 by Rafal Rakowski"
   ]
  },
  {
   "cell_type": "code",
   "execution_count": 13,
   "metadata": {},
   "outputs": [
    {
     "name": "stdout",
     "output_type": "stream",
     "text": [
      "1,2,3,5,6,6,4,3\n"
     ]
    }
   ],
   "source": [
    "# create environment\n",
    "import numpy\n",
    "\n",
    "# exemplary 'array', first element -> arr[0]=3 is sliding window\n",
    "arr = [3,1,3,5,10,6,4,3,1] \n",
    "\n",
    "# Moving median coded in function\n",
    "def m_median(arr):\n",
    "    window = arr[0]\n",
    "    median_arr =[]\n",
    "    \n",
    "    # set move steps\n",
    "    for step in range(2,len(arr)+1):  \n",
    "        \n",
    "        # tackle first steps till reaching full sliding window stretch\n",
    "        if step-1 <= window:\n",
    "            median = int(numpy.median(arr[1:step])) \n",
    "            \n",
    "        # calculate moving-median for the rest of dataset\n",
    "        else:\n",
    "            median = int(numpy.median(arr[step-window:step])) \n",
    "        # save moving-median for the step\n",
    "        median_arr.append(median)\n",
    "    \n",
    "    # convert list to string\n",
    "    median_arr = ','.join(map(str,(median_arr)))\n",
    "    \n",
    "    return median_arr\n",
    "\n",
    "print(m_median(arr))"
   ]
  }
 ],
 "metadata": {
  "kernelspec": {
   "display_name": "Python 3",
   "language": "python",
   "name": "python3"
  },
  "language_info": {
   "codemirror_mode": {
    "name": "ipython",
    "version": 3
   },
   "file_extension": ".py",
   "mimetype": "text/x-python",
   "name": "python",
   "nbconvert_exporter": "python",
   "pygments_lexer": "ipython3",
   "version": "3.7.4"
  }
 },
 "nbformat": 4,
 "nbformat_minor": 2
}
